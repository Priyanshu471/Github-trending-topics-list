{
 "cells": [
  {
   "cell_type": "code",
   "execution_count": 1,
   "id": "152d6c07",
   "metadata": {},
   "outputs": [],
   "source": [
    "import requests\n"
   ]
  },
  {
   "cell_type": "code",
   "execution_count": 2,
   "id": "32ceff27",
   "metadata": {},
   "outputs": [],
   "source": [
    "URL=\"https://github.com/topics\""
   ]
  },
  {
   "cell_type": "code",
   "execution_count": 3,
   "id": "93274f9b",
   "metadata": {},
   "outputs": [],
   "source": [
    "page=requests.get(URL)"
   ]
  },
  {
   "cell_type": "code",
   "execution_count": 14,
   "id": "1c7fdaf7",
   "metadata": {},
   "outputs": [
    {
     "data": {
      "text/plain": [
       "b'\\n\\n<!DOCTYPE html>\\n<html lang=\"en\" data-color-mode=\"auto\" data-light-theme=\"light\" data-dark-theme=\"dark\" data-a11y-animated-images=\"system\">\\n  <head>\\n    <meta charset=\"utf-8\">\\n  <link rel=\"dns-prefetch\" href=\"https://github.githubassets.com\">\\n  <link rel=\"dns-prefetch\" href=\"https://avatars.githubusercontent.com\">\\n  <link rel=\"dns-prefetch\" href=\"https://github-cloud.s3.amazonaws.com\">\\n  <link rel=\"dns-prefetch\" href=\"https://user-images.githubusercontent.com/\">\\n  <link rel=\"preconnect\" href=\"https://github.githubassets.com\" crossorigin>\\n  <link rel=\"preconnect\" href=\"https://avatars.githubusercontent.com\">\\n\\n  <link crossorigin=\"anonymous\" media=\"all\" rel=\"stylesheet\" href=\"https://github.githubassets.com/assets/light-fe3f886b577a.css\" /><link crossorigin=\"anonymous\" media=\"all\" rel=\"stylesheet\" href=\"https://github.githubassets.com/assets/dark-a1dbeda2886c.css\" /><link data-color-theme=\"dark_dimmed\" crossorigin=\"anonymous\" media=\"all\" rel=\"stylesheet\" data-href=\"https://github.github'"
      ]
     },
     "execution_count": 14,
     "metadata": {},
     "output_type": "execute_result"
    }
   ],
   "source": [
    "page.content[:1000]"
   ]
  },
  {
   "cell_type": "code",
   "execution_count": 16,
   "id": "80da100c",
   "metadata": {},
   "outputs": [],
   "source": [
    "from bs4 import BeautifulSoup as bs"
   ]
  },
  {
   "cell_type": "code",
   "execution_count": 18,
   "id": "d5a689b5",
   "metadata": {},
   "outputs": [],
   "source": [
    "soup = bs(page.content, 'html.parser')"
   ]
  },
  {
   "cell_type": "code",
   "execution_count": 44,
   "id": "c2e5d68a",
   "metadata": {},
   "outputs": [],
   "source": [
    "p_topic_tags = soup.findAll('p',{'class':'f3 lh-condensed mb-0 mt-1 Link--primary'})"
   ]
  },
  {
   "cell_type": "code",
   "execution_count": 45,
   "id": "b5d3c2b7",
   "metadata": {},
   "outputs": [
    {
     "data": {
      "text/plain": [
       "30"
      ]
     },
     "execution_count": 45,
     "metadata": {},
     "output_type": "execute_result"
    }
   ],
   "source": [
    "len(p_topic_tags)"
   ]
  },
  {
   "cell_type": "code",
   "execution_count": 29,
   "id": "77c2aeba",
   "metadata": {},
   "outputs": [],
   "source": [
    "p_des_tags = soup.findAll('p',{'class':'f5 color-fg-muted mb-0 mt-1'})"
   ]
  },
  {
   "cell_type": "code",
   "execution_count": 30,
   "id": "d1d5dc84",
   "metadata": {},
   "outputs": [
    {
     "data": {
      "text/plain": [
       "[<p class=\"f5 color-fg-muted mb-0 mt-1\">\n",
       "           3D refers to the use of three-dimensional graphics, modeling, and animation in various industries.\n",
       "         </p>,\n",
       " <p class=\"f5 color-fg-muted mb-0 mt-1\">\n",
       "           Ajax is a technique for creating interactive web applications.\n",
       "         </p>,\n",
       " <p class=\"f5 color-fg-muted mb-0 mt-1\">\n",
       "           Algorithms are self-contained sequences that carry out a variety of tasks.\n",
       "         </p>,\n",
       " <p class=\"f5 color-fg-muted mb-0 mt-1\">\n",
       "           Amp is a non-blocking concurrency library for PHP.\n",
       "         </p>,\n",
       " <p class=\"f5 color-fg-muted mb-0 mt-1\">\n",
       "           Android is an operating system built by Google designed for mobile devices.\n",
       "         </p>]"
      ]
     },
     "execution_count": 30,
     "metadata": {},
     "output_type": "execute_result"
    }
   ],
   "source": [
    "p_des_tags[:5]"
   ]
  },
  {
   "cell_type": "code",
   "execution_count": 41,
   "id": "500e1e15",
   "metadata": {},
   "outputs": [],
   "source": [
    "topic_link_tags = soup.findAll('a',{'class':\"no-underline flex-1 d-flex flex-column\"})"
   ]
  },
  {
   "cell_type": "code",
   "execution_count": 42,
   "id": "4daacdcf",
   "metadata": {},
   "outputs": [
    {
     "data": {
      "text/plain": [
       "[<a class=\"no-underline flex-1 d-flex flex-column\" href=\"/topics/3d\">\n",
       " <p class=\"f3 lh-condensed mb-0 mt-1 Link--primary\">3D</p>\n",
       " <p class=\"f5 color-fg-muted mb-0 mt-1\">\n",
       "           3D refers to the use of three-dimensional graphics, modeling, and animation in various industries.\n",
       "         </p>\n",
       " </a>,\n",
       " <a class=\"no-underline flex-1 d-flex flex-column\" href=\"/topics/ajax\">\n",
       " <p class=\"f3 lh-condensed mb-0 mt-1 Link--primary\">Ajax</p>\n",
       " <p class=\"f5 color-fg-muted mb-0 mt-1\">\n",
       "           Ajax is a technique for creating interactive web applications.\n",
       "         </p>\n",
       " </a>,\n",
       " <a class=\"no-underline flex-1 d-flex flex-column\" href=\"/topics/algorithm\">\n",
       " <p class=\"f3 lh-condensed mb-0 mt-1 Link--primary\">Algorithm</p>\n",
       " <p class=\"f5 color-fg-muted mb-0 mt-1\">\n",
       "           Algorithms are self-contained sequences that carry out a variety of tasks.\n",
       "         </p>\n",
       " </a>,\n",
       " <a class=\"no-underline flex-1 d-flex flex-column\" href=\"/topics/amphp\">\n",
       " <p class=\"f3 lh-condensed mb-0 mt-1 Link--primary\">Amp</p>\n",
       " <p class=\"f5 color-fg-muted mb-0 mt-1\">\n",
       "           Amp is a non-blocking concurrency library for PHP.\n",
       "         </p>\n",
       " </a>,\n",
       " <a class=\"no-underline flex-1 d-flex flex-column\" href=\"/topics/android\">\n",
       " <p class=\"f3 lh-condensed mb-0 mt-1 Link--primary\">Android</p>\n",
       " <p class=\"f5 color-fg-muted mb-0 mt-1\">\n",
       "           Android is an operating system built by Google designed for mobile devices.\n",
       "         </p>\n",
       " </a>]"
      ]
     },
     "execution_count": 42,
     "metadata": {},
     "output_type": "execute_result"
    }
   ],
   "source": [
    "topic_link_tags[:5]"
   ]
  },
  {
   "cell_type": "code",
   "execution_count": 51,
   "id": "e3bd511d",
   "metadata": {},
   "outputs": [
    {
     "data": {
      "text/plain": [
       "'3D'"
      ]
     },
     "execution_count": 51,
     "metadata": {},
     "output_type": "execute_result"
    }
   ],
   "source": [
    "p_topic_tags[0].text"
   ]
  },
  {
   "cell_type": "code",
   "execution_count": 57,
   "id": "b0cd4055",
   "metadata": {},
   "outputs": [],
   "source": [
    "topic_titles=[]\n"
   ]
  },
  {
   "cell_type": "code",
   "execution_count": 62,
   "id": "a1f731d1",
   "metadata": {},
   "outputs": [],
   "source": [
    "for tag in p_topic_tags:\n",
    "     a = tag.text\n",
    "    topic_titles.append('a')"
   ]
  },
  {
   "cell_type": "code",
   "execution_count": null,
   "id": "59e21edd",
   "metadata": {},
   "outputs": [],
   "source": []
  },
  {
   "cell_type": "code",
   "execution_count": null,
   "id": "492ec424",
   "metadata": {},
   "outputs": [],
   "source": []
  }
 ],
 "metadata": {
  "kernelspec": {
   "display_name": "Python 3 (ipykernel)",
   "language": "python",
   "name": "python3"
  },
  "language_info": {
   "codemirror_mode": {
    "name": "ipython",
    "version": 3
   },
   "file_extension": ".py",
   "mimetype": "text/x-python",
   "name": "python",
   "nbconvert_exporter": "python",
   "pygments_lexer": "ipython3",
   "version": "3.11.2"
  }
 },
 "nbformat": 4,
 "nbformat_minor": 5
}
